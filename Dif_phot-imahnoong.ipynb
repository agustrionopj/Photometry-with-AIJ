{
 "cells": [
  {
   "cell_type": "markdown",
   "metadata": {},
   "source": [
    "# _Differential Photometry_ dengan `AstroImageJ`\n",
    "\n",
    "### Agus Triono P. J.\n",
    "### _Observatorium Bosscha, FMIPA, ITB_\n",
    "---"
   ]
  },
  {
   "cell_type": "markdown",
   "metadata": {},
   "source": [
    "_Differential photometry_ atau fotometri diferensial merupakan sebuah teknik dalam mengukur intensitas cahaya bintang pada detektor dengan mengukur selisih intensitas cahaya bintang target terhadap beberapa bintang referensi pada medan pandang (_field of view_, FoV) yang sama. Salah satu tujuan aplikasi metode ini adalah untuk meminimalisir efek turbulensi atmosfer pada perubahan intensitas cahaya bintang, yang bisa jadi awalnya dikesani sebagai perubahan intrinsik bintang tersebut (misalnya bintang variabel, atau bintangnya memiliki planet di sekitarnya, dll). \n",
    "\n",
    "Pada gambar di bawah, terlihat ada variasi kecil pada kurva cahaya bintang A, B, dan IY (lihat lingkaran merah pada gambar) yang diakibatkan oleh faktor atmosferik (mungkin ada awan lewat, atau ada turbulensi udara). Bintang IY sendiri adalah bintang variabel, sedangkan bintang A dan B adalah bintang referensi yang bukan variabel (gambar: http://spiff.rit.edu/classes/phys373/lectures/diff_photom/diff_photom.html ).\n",
    "\n",
    "<img src=\"images/difphot.png\" width='600'> <img src=\"images/difphotclean.png\" width='600'/>\n",
    "\n",
    "Untuk mengukur cahaya bintang pada citra, digunakan sebuah metode yang dinamakan fotometri bukaan atau _aperture photometry_. Secara singkat, kita membuat 3 buah 'cincin' yang merepresentasikan bukaan, seperti ilustrasi berikut.\n",
    "\n",
    "<img src=\"images/apphot.png\" width='500' >\n",
    "\n"
   ]
  },
  {
   "cell_type": "markdown",
   "metadata": {},
   "source": [
    "Pada gambar di atas, $r_1$, $r_2$, dan $r_3$ berturut-turut menunjukkan radius cincin dari pusat (_centroid_) bintang. Radius $r_1$ atau _annulus_ dipilih sedemikian sehingga tidak ada informasi yang terbuang dari bintang yang dimaksud. Radius $r_2$ dan $r_3$ dipilih sedemikian sehingga selisih keduanya, $r_3 - r_2$, mewakili area langit (area yang diarsir biru pada gambar) dan sebisa mungkin tidak ada obyek lain pada area tersebut. Lebar $r_2$ dipilih dengan memastikan tidak ada cahaya dari bintang target yang 'tumpah' ke area langit. Intensitas cahaya atau fluks yang diukur dinyatakan dalam persamaan sederhana sebagai berikut.\n",
    "\n",
    "$$ I = \\Sigma (\\mathrm{count\\; dalam\\; bukaan}) - \\mathrm{sky}*\\mathrm{n_{pix}}$$\n",
    "\n",
    "$$ m = -2.5 \\log (I) + \\mathrm{faktor\\; kalibrasi}$$\n",
    "\n",
    "Teknik ini baik jika digunakan pada citra yang didalamnya berisi bintang-bintang yang tidak terlalu rapat namun tidak baik jika bintang-bintang dalam citra terlalu banyak dan rapat, seperti misalnya bintang-bintang pada gugus bintang. Untuk studi bintang di gugus, digunakan sebuah teknik lain yaitu _psf photometry_."
   ]
  },
  {
   "cell_type": "markdown",
   "metadata": {},
   "source": [
    "Berikut adalah _guideline_ singkat untuk melakukan _differential photometry_ menggunakan `AstroImageJ` (seterusnya akan dituliskan sebagai `AIJ`).\n",
    "\n",
    "## Persiapan\n",
    "---\n",
    "\n",
    "- Pastikan `AIJ` sudah di-_update_ ke versi yang paling baru. Tekan `Help` $\\rightarrow$ `Update AstroImageJ`, dan pilih `daily build` pada menu yang disediakan.\n",
    "\n",
    "<img src=\"images/aij_update.png\" width='300'>\n",
    "\n",
    "- Pastikan RAM laptop/komputer anda cukup, dan alokasikan sekitar setengah dari memori untuk `AIJ` (_optional but recommended_). Cek `Edit` $\\rightarrow$ `Options` $\\rightarrow$ `Memory & Threads`. Sesuaikan jumlah memori dan _threads_ dengan spesifikasi laptop/komputer masing-masing.\n",
    "\n",
    "<img src=\"images/memori.png\" width='250'>\n",
    "\n",
    "- Pastikan bahwa ID observatorium dan koordinat obyek/target sudah benar. Pilih dari menu _dropdown_ yang ada atau masukkan secara manual. Jika anda terhubung ke internet, proses pengenalan koordinat obyek bisa dilakukan otomatis. Pada pekerjaan kali ini, pilih `Moore Observatory` sebagai ID, dan masukkan `WASP-12b` pada `SIMBAD Object ID` dan tekan `<Enter>` untuk pencarian koordinat otomatis.\n",
    "\n",
    "    **Cara lain**: Tekan logo `DP` pada _toolbar_, maka jendela `Coordinate Converter` (gambar di bawah) juga akan terbuka, bersama dengan jendela `CCD Data Processor` yang akan kita gunakan dalam reduksi data.\n",
    "\n",
    "<img src=\"images/toolbar1.png\" width='500'>\n",
    "\n",
    "<img src=\"images/cooconv1.png\" width='600'>\n",
    "\n",
    "- Cek `FITS Header Settings` untuk memastikan parameter-parameter yang digunakan untuk meng-_update header_ data. Menu ini ada di `DP` bagian `CCD Data Processor` (lihat gambar). Pada setting ini pula terlihat parameter-parameter yang direkomendasikan ada pada _header_.\n",
    "\n",
    "<img src=\"images/ccddataproc.png\" width='700'> <img src=\"images/headersettings.png\" width='300'>\n"
   ]
  },
  {
   "cell_type": "markdown",
   "metadata": {},
   "source": [
    "## Proses Reduksi Data\n",
    "---\n",
    "Proses reduksi data dalam `AIJ` bisa dilakukan dengan otomatis. Untuk pekerjaan kali ini, kita akan lakukan semi-manual untuk lebih memahami proses masing-masing. Proses ini berlangsung pada jendela `CCD Data Processor` (bisa diakses dengan menekan `DP` pada _toolbar_). \n",
    "### Pembuatan Master Bias\n",
    "- Buka `CCD Data Processor` dan atur seperti gambar berikut. Sesuaikan direktori penyimpanan, _filename/pattern_ dan nama file master dengan kondisi di masing-masing laptop/PC. Pastikan `Build` dipilih dan jumlah file untuk master adalah 0 (artinya belum ada file master yang dibuat). Setelah semua sudah siap, tekan tombol `<START>`.\n",
    "\n",
    "<img src=\"images/dpbias.png\" width='700'>\n",
    "\n",
    "### Pembuatan Master Dark\n",
    "- Atur _setting_ seperti pada gambar berikut dan tekan `<START>`. Pastikan masterbias dalam posisi `Enable` dan jumlahnya 1. Pilih `deBias` untuk menghilangkan bias dari file dark. Hal ini akan berguna dalam _scaling_ file dark jika waktu eksposur dark tidak sama dengan target/bintang.\n",
    "\n",
    "<img src=\"images/dpdark.png\" width='700'>\n",
    "\n",
    "### Pembuatan Master Flat\n",
    "- Atur _setting_ seperti pada gambar berikut dan tekan `<START>`. Centang `scale` jika file ekposur dark tidak sama dengan target/bintang (pastikan `deBias` juga dipilih). `Remove Gradient` dipilih jika file flat yang ada diduga memiliki ketidakseragaman pada seluruh frame (misal untuk _skyflat_, ada gradien kecerlangan langit akibat posisi Matahari ataupun distribusi awan tipis di atmosfer).\n",
    "\n",
    "<img src=\"images/dpflat.png\" width='700'>\n",
    "\n",
    "### Reduksi Data Target: WASP-12b\n",
    "- Atur _setting_ seperti pada gambar berikut dan tekan `<START>`. Pastikan simpan citra terkalibrasi dalam 32 bit (**awas! ukuran citra akan membesar dua kali lipat semula. Pastikan kapasitas harddisk anda cukup.**), pilih direktori penyimpanan serta akhiran (_suffix_) yang digunakan sebagai identitas citra terkalibrasi. Pada contoh ini, direktori penyimpanan adalah 'reduced' dan _suffix_ yang digunakan adalah '_bdf'.\n",
    "\n",
    "<img src='images/dptarget.png' width='700'>\n"
   ]
  },
  {
   "cell_type": "markdown",
   "metadata": {},
   "source": [
    "## Fotometri WASP-12b\n",
    "---\n",
    "- Buka data bersih dengan menekan `File` $\\rightarrow$ `Import` $\\rightarrow$ `Import Sequence` pada _toolbar_, arahkan pada folder penyimpanan data dan klik salah satu file. Jika gambar sudah dibuka dengan `File` $\\rightarrow$ `Open`, maka _image sequence_ bisa ditampilkan dengan `File` $\\rightarrow$ `Open image sequence in new window` pada jendela _display_ yang terbuka (lihat gambar). Pastikan `virtual stack` dipilih untuk meminimalisir penggunaan memori. Jumlah citra yang ditampilkan akan muncul pada `number of images`. Untuk menampilkan hanya citra tertentu saja, isi bagian `File name contains` sesuai dengan nama file yang ingin ditampilkan.\n",
    "\n",
    "<img src=\"images/open.png\" width='600'> <img src=\"images/openoption.png\" width='300'>\n",
    "\n",
    "- Cek _header_ data. Pastikan beberapa hal berikut ada di dalamnya:\n",
    "    - `DATE-OBS, DATEOBS, DATE_OBS, UT_DATE`\n",
    "    - `EXPTIME, EXPOSURE`\n",
    "    \n",
    "<img src=\"images/header.png\" width='750'>\n",
    "\n",
    "- **[Recommended step]** Perhatikan pada bagian `RA` dan `DEC`. Pada pekerjaan kali ini, bagian ini sudah terisi, artinya informasi `World Coordinate System (WCS)` sudah ada dalam data. Pada umumnya, bagian ini belum terisi, sehingga disarankan untuk melakukan _plate solving_. Untuk melakukan _plate solving_, dapatkan _user key_ gratis pada http://nova.astrometry.net. Isikan _user key_ ini pada panel `Astrometry Settings` yang bisa diakses dengan tombol _plate solve_ seperti pada gambar. Laptop/PC harus terhubung ke internet untuk bisa melakukan _plate solving_. Tekan `<START>` untuk memulai _plate solving_.\n",
    "\n",
    "<img src='images/platesolve1.png' width='500'> <img src='images/platesolve2.png' width='600'>\n",
    "\n",
    "- Buka `Aperture Photometry Settings` dan pasang tiga nilai teratas sedemikian sehingga radius bukaannya melingkupi bintang yang dipilih/ditinjau (untuk kasus ini, nilai 20, 30, 40 adalah nilai awal yang baik). Pastikan pula nilai CCD gain, CCD readout noise, dan CCD dark current per sec untuk data ini diset pada nilai berikut:\n",
    "    - CCD gain: **1.5 e-/count**\n",
    "    - CCD readout noise: **9 e-**\n",
    "    - CCD dark current per sec: **0.2 e-/pix/sec**\n",
    "    \n",
    "  Nilai ini bervariasi, bergantung detektor yang digunakan. Pasang nilai ini seakurat mungkin untuk mendapatkan hasil fotometri yang bisa dipertanggungjawabkan.\n",
    "  \n",
    "<img src=\"images/apphotsetting.png\" width='500'> <img src=\"images/apphotsetting2.png\" width='700'>\n",
    "\n",
    "- Tentukan profil radial untuk mendapatkan radius $r_1, r_2$ dan $r_3$ (lihat keterangan pada bagian awal dokumen ini). Nilai ini bisa diperoleh dengan menggunakan kombinasi `<Alt>` + klik pada bintang yang terang namun tidak saturasi. Gunakan tombol _scroll_ untuk _zoom in/out_ gambar, dan `<SPACE>` + _drag_ untuk menggeser gambar. Nilai $r_1, r_2$ dan $r_3$ diambil berturut-turut sebesar $1.7 \\times $ FWHM, $1.9 \\times $ FWHM, dan $2.55 \\times $ FWHM. Tekan `Save Aperture` untuk menyimpan nilai ini ke `Aperture Photometry Settings`.\n",
    "\n",
    "<img src='images/radprofile.png' width='600'>\n",
    "\n"
   ]
  },
  {
   "cell_type": "markdown",
   "metadata": {},
   "source": [
    "- **[Recommended step]** Jika anda menganimasikan seluruh gambar, terlihat adanya variasi posisi bintang akibat ketidakpresisian _tracking_ teleskop. Salah satu cara untuk mengatasi hal ini adalah dengan _image alignment_ berdasarkan data `WCS` ataupun _aperture_. Langkah ini akan membantu kita dalam melakukan _aperture photometry_ karena posisi bintang-bintang dalam seluruh frame akan dibuat tidak berubah. Kelemahannya adalah memerlukan kapasitas harddisk berlebih untuk menampung gambar-gambar hasil _alignment_. Cara lain untuk membantu kita dalam _aperture photometry_ akan dibahas pada poin berikutnya."
   ]
  }
 ],
 "metadata": {
  "kernelspec": {
   "display_name": "Python 3",
   "language": "python",
   "name": "python3"
  },
  "language_info": {
   "codemirror_mode": {
    "name": "ipython",
    "version": 3
   },
   "file_extension": ".py",
   "mimetype": "text/x-python",
   "name": "python",
   "nbconvert_exporter": "python",
   "pygments_lexer": "ipython3",
   "version": "3.6.5"
  }
 },
 "nbformat": 4,
 "nbformat_minor": 2
}
